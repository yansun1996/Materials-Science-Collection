{
 "cells": [
  {
   "cell_type": "markdown",
   "metadata": {
    "collapsed": true
   },
   "source": [
    "# Import for looking for solutions"
   ]
  },
  {
   "cell_type": "code",
   "execution_count": null,
   "metadata": {
    "collapsed": true
   },
   "outputs": [],
   "source": [
    "from sympy import *"
   ]
  },
  {
   "cell_type": "markdown",
   "metadata": {
    "collapsed": true
   },
   "source": [
    "# 500K"
   ]
  },
  {
   "cell_type": "code",
   "execution_count": null,
   "metadata": {
    "collapsed": true
   },
   "outputs": [],
   "source": [
    "# 0.384615 -18,937.30 Al8Mg5"
   ]
  },
  {
   "cell_type": "code",
   "execution_count": null,
   "metadata": {
    "collapsed": true
   },
   "outputs": [],
   "source": [
    "# 500K\n",
    "### Al8Mg5\n",
    "# 0.384615 -18,937.30 \n",
    "x_al8mg5 =  0.384615\n",
    "y_al8mg5 = -18937.30\n",
    "### FCC\n",
    "# x^9 order fitting\n",
    "# R^2 =0.9996\n",
    "a0 = -15604.30722\n",
    "a1 = -14957.41932\n",
    "a2 = 92897.80788\n",
    "a3 = -469481.39599\n",
    "a4 = 1.47601E6\n",
    "a5 = -2.7821E6\n",
    "a6 = 3.0846E6\n",
    "a7 = -1.85021E6\n",
    "a8 = 463643.0982\n",
    "a9 = -462.55407\n",
    "### HCP"
   ]
  },
  {
   "cell_type": "code",
   "execution_count": null,
   "metadata": {},
   "outputs": [],
   "source": [
    "# tangent line\n",
    "x = Symbol('x')\n",
    "x_tmp = 0\n",
    "while (x_tmp<0.5):\n",
    "    f = a0+a1*x_tmp+a2*x_tmp**2+a3*x_tmp**3+a4*x_tmp**4+a5*x_tmp**5+a6*x_tmp**6+a7*x_tmp**7+a8*x_tmp**8+a9*x_tmp**9\n",
    "    f_prime = a1+a2*2*x_tmp**1+a3*3*x_tmp**2+a4*4*x_tmp**3+a5*5*x_tmp**4+a6*6*x_tmp**5+a7*7*x_tmp**6+a8*8*x_tmp**7+a9*9*x_tmp**8\n",
    "    err = f_prime*(x_al8mg5-x_tmp)+f-y_al8mg5\n",
    "    print str(x_tmp)+'\\t'+str(err)\n",
    "    x_tmp+=0.0001\n",
    "    \n",
    "# clac 0.053\n",
    "# truth 0.050\n",
    "# err = 8.21%"
   ]
  },
  {
   "cell_type": "code",
   "execution_count": null,
   "metadata": {
    "collapsed": true
   },
   "outputs": [],
   "source": [
    "### Al12Mg17\n",
    "# x^9 order fitting\n",
    "# R^2 =1.0\n",
    "b0 = 2.56422E6\n",
    "b1 = -3.36685E7\n",
    "b2 = 1.92368E8\n",
    "b3 = -6.30669E8\n",
    "b4 = 1.30512E9\n",
    "b5 = -1.76621E9\n",
    "b6 = 1.56204E9\n",
    "b7 = -8.69859E8\n",
    "b8 = 2.76426E8\n",
    "b9 = -3.81162E7"
   ]
  },
  {
   "cell_type": "code",
   "execution_count": null,
   "metadata": {},
   "outputs": [],
   "source": [
    "# tangent line\n",
    "x = Symbol('x')\n",
    "x_tmp = 0\n",
    "while (x_tmp<0.6):\n",
    "    f = b0+b1*x_tmp+b2*x_tmp**2+b3*x_tmp**3+b4*x_tmp**4+b5*x_tmp**5+b6*x_tmp**6+b7*x_tmp**7+b8*x_tmp**8+b9*x_tmp**9\n",
    "    f_prime = b1+b2*2*x_tmp**1+b3*3*x_tmp**2+b4*4*x_tmp**3+b5*5*x_tmp**4+b6*6*x_tmp**5+b7*7*x_tmp**6+b8*8*x_tmp**7+b9*9*x_tmp**8\n",
    "    err = f_prime*(x_al8mg5-x_tmp)+f-y_al8mg5\n",
    "    print str(x_tmp)+'\\t'+str(err)\n",
    "    x_tmp+=0.0001\n",
    "    \n",
    "#clac 0.512\n",
    "#truth 0.5175\n",
    "#err= -1.07%"
   ]
  },
  {
   "cell_type": "code",
   "execution_count": null,
   "metadata": {
    "collapsed": true
   },
   "outputs": [],
   "source": [
    "### HCP\n",
    "# x^9 order fitting\n",
    "# R^2 = -.999\n",
    "c0 = -11023.33779\n",
    "c1 = -22079.53149\n",
    "c2 = 84402.73971\n",
    "c3 = -450164.83648\n",
    "c4 = 1.4647*1000000\n",
    "c5 = -2.77944*1000000\n",
    "c6 = 3.08077*1000000\n",
    "c7 = -1.84694*1000000\n",
    "c8 = 462120.55881\n",
    "c9 = -162.59338    "
   ]
  },
  {
   "cell_type": "code",
   "execution_count": null,
   "metadata": {},
   "outputs": [],
   "source": [
    "# tangent line\n",
    "x = Symbol('x')\n",
    "x_tmp = 0.553\n",
    "while (x_tmp<1.0):\n",
    "    f = b0+b1*x_tmp+b2*x_tmp**2+b3*x_tmp**3+b4*x_tmp**4+b5*x_tmp**5+b6*x_tmp**6+b7*x_tmp**7+b8*x_tmp**8+b9*x_tmp**9\n",
    "    f_prime = b1+b2*2*x_tmp**1+b3*3*x_tmp**2+b4*4*x_tmp**3+b5*5*x_tmp**4+b6*6*x_tmp**5+b7*7*x_tmp**6+b8*8*x_tmp**7+b9*9*x_tmp**8\n",
    "    f_hcp = c0+c1*x+c2*x**2+c3*x**3+c4*x**4+c5*x**5+c6*x**6+c7*x**7+c8*x**8+c9*x**9\n",
    "    print str(x_tmp)+'\\t'+str(solve(f_prime*(x-x_tmp)+f-(c0+c1*x+c2*x**2+c3*x**3+c4*x**4+c5*x**5+c6*x**6+c7*x**7+c8*x**8+c9*x**9),x)[:])\n",
    "    x_tmp+=0.0001\n",
    "    \n",
    "# hcp and al12mg17\n",
    "# al12mg17 truth 0.593\n",
    "# al12mg17 calc 0.5537\n",
    "# al12mg17 err -7.09%\n",
    "# hcp truth 0.966\n",
    "# hcp calc 0.944\n",
    "# hcp err  -2.3%"
   ]
  },
  {
   "cell_type": "code",
   "execution_count": null,
   "metadata": {},
   "outputs": [],
   "source": [
    "solve(x+1-1,x)"
   ]
  },
  {
   "cell_type": "code",
   "execution_count": null,
   "metadata": {},
   "outputs": [],
   "source": [
    "solve(c0+c1*x+c2*x**2+c3*x**3+c4*x**4+c5*x**5+c6*x**6+c7*x**7+c8*x**8+c9*x**9-(b0+b1*x+b2*x**2+b3*x**3+b4*x**4+b5*x**5+b6*x**6+b7*x**7+b8*x**8+b9*x**9),x)"
   ]
  },
  {
   "cell_type": "markdown",
   "metadata": {
    "collapsed": true
   },
   "source": [
    "# 680K"
   ]
  },
  {
   "cell_type": "code",
   "execution_count": null,
   "metadata": {
    "collapsed": true
   },
   "outputs": [],
   "source": [
    "# Al8Mg5  0.384615  -28,079.60\n",
    "x_al8mg5 = 0.384615\n",
    "y_al8mg5 = -28079.60"
   ]
  },
  {
   "cell_type": "code",
   "execution_count": null,
   "metadata": {
    "collapsed": true
   },
   "outputs": [],
   "source": [
    "# FCC\n",
    "d0 = -23895.4759\n",
    "d1 = -23759.06773\n",
    "d2 = 130741.1262\n",
    "d3 = -641308.9655\n",
    "d4 = 2.00617E6\n",
    "d5 = -3.77672E6\n",
    "d6 = 4.18359E6\n",
    "d7 = -2.50499E6\n",
    "d8 = 624480.87954\n",
    "d9 = 741.14374"
   ]
  },
  {
   "cell_type": "code",
   "execution_count": null,
   "metadata": {},
   "outputs": [],
   "source": [
    "# tangent line\n",
    "x = Symbol('x')\n",
    "x_tmp = 0\n",
    "while (x_tmp<1.0):\n",
    "    f = d0+d1*x_tmp+d2*x_tmp**2+d3*x_tmp**3+d4*x_tmp**4+d5*x_tmp**5+d6*x_tmp**6+d7*x_tmp**7+d8*x_tmp**8+d9*x_tmp**9\n",
    "    f_prime = d1+d2*2*x_tmp**1+d3*3*x_tmp**2+d4*4*x_tmp**3+d5*5*x_tmp**4+d6*6*x_tmp**5+d7*7*x_tmp**6+d8*8*x_tmp**7+d9*9*x_tmp**8\n",
    "    err = f_prime*(x_al8mg5-x_tmp)+f-y_al8mg5\n",
    "    print str(x_tmp)+'\\t'+str(err)\n",
    "    x_tmp+=0.0001\n",
    "\n",
    "# FCC calc 0.1292\n",
    "# FCC truth 0.135\n",
    "# FCC err -4.5%"
   ]
  },
  {
   "cell_type": "code",
   "execution_count": null,
   "metadata": {
    "collapsed": true
   },
   "outputs": [],
   "source": []
  },
  {
   "cell_type": "code",
   "execution_count": null,
   "metadata": {
    "collapsed": true
   },
   "outputs": [],
   "source": [
    "# Al12Mg17\n",
    "e0 = 344819.31295\n",
    "e1 = -2.95594E6\n",
    "e2 = 5.85378E6\n",
    "e3 = 1.96914E7\n",
    "e4 = -1.31304E8\n",
    "e5 = 3.1994E8\n",
    "e6 = -4.32328E8\n",
    "e7 = 3.41583E8\n",
    "e8 = -1.48243E8\n",
    "e9 = 2.73956E7"
   ]
  },
  {
   "cell_type": "code",
   "execution_count": null,
   "metadata": {
    "collapsed": true
   },
   "outputs": [],
   "source": [
    "# Al0.525Mg0.475\n",
    "x_Al525Mg475 = 0.475000\n",
    "y_Al525Mg475 = -28612.40"
   ]
  },
  {
   "cell_type": "code",
   "execution_count": null,
   "metadata": {},
   "outputs": [],
   "source": [
    "# tangent line\n",
    "x = Symbol('x')\n",
    "x_tmp = 0.4\n",
    "while (x_tmp<1.0):\n",
    "    f = e0+e1*x_tmp+e2*x_tmp**2+e3*x_tmp**3+e4*x_tmp**4+e5*x_tmp**5+e6*x_tmp**6+e7*x_tmp**7+e8*x_tmp**8+e9*x_tmp**9\n",
    "    f_prime = e1+e2*2*x_tmp**1+e3*3*x_tmp**2+e4*4*x_tmp**3+e5*5*x_tmp**4+e6*6*x_tmp**5+e7*7*x_tmp**6+e8*8*x_tmp**7+e9*9*x_tmp**8\n",
    "    err = f_prime*(x_Al525Mg475-x_tmp)+f-y_Al525Mg475\n",
    "    print str(x_tmp)+'\\t'+str(err)\n",
    "    x_tmp+=0.0001\n",
    "\n",
    "# Al12Mg17 truth 0.5147\n",
    "# Al12Mg17 calc 0.5157\n",
    "# Al12Mg17 err 0.20%"
   ]
  },
  {
   "cell_type": "code",
   "execution_count": null,
   "metadata": {
    "collapsed": true
   },
   "outputs": [],
   "source": [
    "# HCP\n",
    "f0 = -19638.48393\n",
    "f1 = -30577.00857\n",
    "f2 = 123356.16049\n",
    "f3 = -623135.73947\n",
    "f4 = 1.99593E6\n",
    "f5 = -3.77673E6\n",
    "f6 = 4.18382E6\n",
    "f7 = -2.50541E6\n",
    "f8 = 624799.67618\n",
    "f9 = 651.37796"
   ]
  },
  {
   "cell_type": "code",
   "execution_count": null,
   "metadata": {},
   "outputs": [],
   "source": [
    "# tangent line\n",
    "x = Symbol('x')\n",
    "x_tmp = 0.602\n",
    "while (x_tmp<1.0):\n",
    "    f = e0+e1*x_tmp+e2*x_tmp**2+e3*x_tmp**3+e4*x_tmp**4+e5*x_tmp**5+e6*x_tmp**6+e7*x_tmp**7+e8*x_tmp**8+e9*x_tmp**9\n",
    "    f_prime = e1+e2*2*x_tmp**1+e3*3*x_tmp**2+e4*4*x_tmp**3+e5*5*x_tmp**4+e6*6*x_tmp**5+e7*7*x_tmp**6+e8*8*x_tmp**7+e9*9*x_tmp**8\n",
    "    f_hcp = f0+f1*x+f2*x**2+f3*x**3+f4*x**4+f5*x**5+f6*x**6+f7*x**7+f8*x**8+f9*x**9\n",
    "    print str(x_tmp)+'\\t'+str(solve(f_prime*(x-x_tmp)+f-(f0+f1*x+f2*x**2+f3*x**3+f4*x**4+f5*x**5+f6*x**6+f7*x**7+f8*x**8+f9*x**9),x)[:])\n",
    "    x_tmp+=0.0001\n",
    "    \n",
    "# Al12Mg17 and HCP\n",
    "# Al12Mg17 calc 0.6026\n",
    "# Al12Mg17 truth 0.6029\n",
    "# Al12Mg17 err -0.05%\n",
    "# HCP calc 0.8963\n",
    "# HCP truth 0.8983\n",
    "# HCP err -0.22%"
   ]
  },
  {
   "cell_type": "markdown",
   "metadata": {},
   "source": [
    "# 800K"
   ]
  },
  {
   "cell_type": "code",
   "execution_count": null,
   "metadata": {
    "collapsed": true
   },
   "outputs": [],
   "source": [
    "# liquid\n",
    "g0 = -28665.67562\n",
    "g1 = -39956.71772\n",
    "g2 = 163330.48437\n",
    "g3 = -751407.70908\n",
    "g4 = 2.35754E6\n",
    "g5 = -4.44588E6\n",
    "g6 = 4.92693E6\n",
    "g7 = -2.95261E6\n",
    "g8 = 737967.49358\n",
    "g9 = 73.74238"
   ]
  },
  {
   "cell_type": "code",
   "execution_count": null,
   "metadata": {
    "collapsed": true
   },
   "outputs": [],
   "source": [
    "# FCC\n",
    "h0 = -30214.54276\n",
    "h1 = -29629.35664\n",
    "h2 = 156003.59006\n",
    "h3 = -756145.16069\n",
    "h4 = 2.36106E6\n",
    "h5 = -4.44417E6\n",
    "h6 = 4.92416E6\n",
    "h7 = -2.94983E6\n",
    "h8 = 736403.97782\n",
    "h9 = 446.96763"
   ]
  },
  {
   "cell_type": "code",
   "execution_count": null,
   "metadata": {
    "collapsed": true
   },
   "outputs": [],
   "source": [
    "# HCP\n",
    "i0 = -26173.57042\n",
    "i1 = -36243.584\n",
    "i2 = 149328.7508\n",
    "i3 = -738400.84506\n",
    "i4 = 2.34971E6\n",
    "i5 = -4.44046E6\n",
    "i6 = 4.91731E6\n",
    "i7 = -2.94256E6\n",
    "i8 = 732271.42468\n",
    "i9 = 1420.53089"
   ]
  },
  {
   "cell_type": "code",
   "execution_count": null,
   "metadata": {},
   "outputs": [],
   "source": [
    "# liquid and FCC\n",
    "x = Symbol('x')\n",
    "x_tmp = 0.093\n",
    "while (x_tmp<1.0):\n",
    "    f = h0+h1*x_tmp+h2*x_tmp**2+h3*x_tmp**3+h4*x_tmp**4+h5*x_tmp**5+h6*x_tmp**6+h7*x_tmp**7+h8*x_tmp**8+h9*x_tmp**9\n",
    "    f_prime = h1+h2*2*x_tmp**1+h3*3*x_tmp**2+h4*4*x_tmp**3+h5*5*x_tmp**4+h6*6*x_tmp**5+h7*7*x_tmp**6+h8*8*x_tmp**7+h9*9*x_tmp**8\n",
    "    f_liquid = g0+g1*x+g2*x**2+g3*x**3+g4*x**4+g5*x**5+g6*x**6+g7*x**7+g8*x**8+g9*x**9\n",
    "    print str(x_tmp)+'\\t'+str(solve(f_prime*(x-x_tmp)+f-(g0+g1*x+g2*x**2+g3*x**3+g4*x**4+g5*x**5+g6*x**6+g7*x**7+g8*x**8+g9*x**9),x)[:])\n",
    "    x_tmp+=0.0001\n",
    "    \n",
    "# liquid calc 0.259\n",
    "# liquid truth 0.254\n",
    "# liquid err 1.9%\n",
    "# FCC calc 0.0936\n",
    "# FCC truth 0.0946\n",
    "# FCC err -1.1%"
   ]
  },
  {
   "cell_type": "code",
   "execution_count": null,
   "metadata": {},
   "outputs": [],
   "source": [
    "# liquid and HCP\n",
    "x = Symbol('x')\n",
    "x_tmp = 0.93\n",
    "while (x_tmp<1.0):\n",
    "    f = i0+i1*x_tmp+i2*x_tmp**2+i3*x_tmp**3+i4*x_tmp**4+i5*x_tmp**5+i6*x_tmp**6+i7*x_tmp**7+i8*x_tmp**8+i9*x_tmp**9\n",
    "    f_prime = i1+i2*2*x_tmp**1+i3*3*x_tmp**2+i4*4*x_tmp**3+i5*5*x_tmp**4+i6*6*x_tmp**5+i7*7*x_tmp**6+i8*8*x_tmp**7+i9*9*x_tmp**8\n",
    "    f_liquid = g0+g1*x+g2*x**2+g3*x**3+g4*x**4+g5*x**5+g6*x**6+g7*x**7+g8*x**8+g9*x**9\n",
    "    print str(x_tmp)+'\\t'+str(solve(f_prime*(x-x_tmp)+f-(g0+g1*x+g2*x**2+g3*x**3+g4*x**4+g5*x**5+g6*x**6+g7*x**7+g8*x**8+g9*x**9),x)[:])\n",
    "    x_tmp+=0.001\n",
    "    \n",
    "# liquid calc 0.794\n",
    "# liquid truth 0.799\n",
    "# liquid err -0.6%\n",
    "# HCP calc 0.934\n",
    "# HCP truth 0.940\n",
    "# HCP err -0.6%"
   ]
  },
  {
   "cell_type": "code",
   "execution_count": null,
   "metadata": {
    "collapsed": true
   },
   "outputs": [],
   "source": []
  }
 ],
 "metadata": {
  "kernelspec": {
   "display_name": "Python 2",
   "language": "python",
   "name": "python2"
  },
  "language_info": {
   "codemirror_mode": {
    "name": "ipython",
    "version": 2
   },
   "file_extension": ".py",
   "mimetype": "text/x-python",
   "name": "python",
   "nbconvert_exporter": "python",
   "pygments_lexer": "ipython2",
   "version": "2.7.14"
  }
 },
 "nbformat": 4,
 "nbformat_minor": 2
}
